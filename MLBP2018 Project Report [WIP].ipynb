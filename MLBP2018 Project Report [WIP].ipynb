{
 "cells": [
  {
   "cell_type": "markdown",
   "metadata": {},
   "source": [
    "**Machine Learning Basic Principles 2018 - Data Analysis Project Report**"
   ]
  },
  {
   "cell_type": "markdown",
   "metadata": {},
   "source": [
    "## Machine Learning Algorithms comparison: Support Vector Machine vs Random Forest"
   ]
  },
  {
   "cell_type": "markdown",
   "metadata": {},
   "source": [
    "## Warning\n",
    "Please, do not use the options to run all the cells together, because some cells contains the training methods for the algorithm and they require quite a long time to compute (usually more than 2 hours each). The results of the training are always included after these cells and before each cell of this type there is this warning:  \n",
    "\n",
    "\"The following cell contains the parameters tuning algorithm: do not execute it!\""
   ]
  },
  {
   "cell_type": "markdown",
   "metadata": {},
   "source": [
    "### Abstract"
   ]
  },
  {
   "cell_type": "markdown",
   "metadata": {},
   "source": [
    "This notebook analyzes two different machine learning algorithms and a deep neural network.\n",
    "1. SVM - Support Vector Machine\n",
    "2. RF - Random Forest\n",
    "\n",
    "After a brief introduction, when the existing data will be presented, the notebook shows some techniques to visualize and clean up data before feeding them to the machine learning algorithms. Both algorithms use the same dataset and the same training approach. The model is indeed trained using the train data and the train label: the accuracy of the training is then calculated using the predicted labels and the training labels. Finally, the final predictions are exported in a csv file, to be uploaded into kaggle."
   ]
  },
  {
   "cell_type": "markdown",
   "metadata": {},
   "source": [
    "### 1. Introduction"
   ]
  },
  {
   "cell_type": "markdown",
   "metadata": {},
   "source": [
    "#### Support Vector Machine\n",
    "Support Vector Machine is a supervised model used for classification and regression analysis. Each data point z is viewed as a p-dimensional array (in our case 264 features): the objective of the algorithm is to divide these points with a (p-1)-dimensional hyperplane. There are multiple possible choices for an hyperplane, but the (reasonably) best one is the one that guarantees the best margin between the classes (so the one that is able to separate better the classes).  \n",
    "\\[ Source: Wikipedia, https://en.wikipedia.org/wiki/Support_vector_machine \\]"
   ]
  },
  {
   "cell_type": "markdown",
   "metadata": {},
   "source": [
    "#### Random Forest\n",
    "Random Forest is an ensemble learning method for classification and regression. An ensemble method is a method that uses multiple learning algorithms to improve its performance. The algorithm works by creating a multitude of decision trees during training time, and outputting the class that is the *mode* of all the classes (for classification) or mean prediction (for regression) of the individual trees.  \n",
    "\\[ Source: Wikipedia, https://en.wikipedia.org/wiki/Random_forest ]\n",
    "\n",
    "\n",
    "*mode*: the mode of a set of data is the value that appears the most: so it is the value that is most likely to be sampled."
   ]
  },
  {
   "cell_type": "markdown",
   "metadata": {},
   "source": [
    "### 2. Data analysis"
   ]
  },
  {
   "cell_type": "markdown",
   "metadata": {},
   "source": [
    "The provided data are split in two datasets, training and testing. Labels are provided for the training set.\n",
    "This section will be focused on displaying and analyzing the provided data: in particular, there are plots of the datasets and an histogram that shows the distribution of the labels.  \n",
    "The following cell imports the libraries needed throughout the notebook and loads the datasets (stored in CSV files)."
   ]
  },
  {
   "cell_type": "code",
   "execution_count": 1,
   "metadata": {
    "deletable": false,
    "nbgrader": {
     "cell_type": "code",
     "checksum": "014a593ce82d342a60d749c7a2c46b7c",
     "grade": true,
     "grade_id": "cell-c3ef844c17cf4a1e",
     "locked": false,
     "points": 1,
     "schema_version": 2,
     "solution": true
    }
   },
   "outputs": [],
   "source": [
    "# Import libraries\n",
    "import matplotlib.pyplot as plt\n",
    "import numpy as np\n",
    "import pandas as pd\n",
    "from sklearn.ensemble import RandomForestClassifier\n",
    "from sklearn.model_selection import GridSearchCV\n",
    "from sklearn.model_selection import RandomizedSearchCV\n",
    "from sklearn import preprocessing\n",
    "from sklearn import svm\n",
    "import time\n",
    "\n",
    "\n",
    "## Load files\n",
    "test_data_accuracy = pd.read_csv('./accuracy/test_data.csv', header=None)\n",
    "train_data_accuracy = pd.read_csv('./accuracy/train_data.csv', header=None)\n",
    "train_labels_accuracy = pd.read_csv('./accuracy/train_labels.csv', header=None)\n",
    "\n",
    "## Parse loaded content\n",
    "test_data_accuracy = test_data_accuracy.values\n",
    "train_data_accuracy = train_data_accuracy.values\n",
    "train_labels_accuracy = train_labels_accuracy.values\n",
    "\n",
    "## Check that the data was correctly loaded: \n",
    "## according to the document the correct shapes are 4363 x 264 for training data and 6544 x 264 for test data\n",
    "assert train_data_accuracy.shape == (4363, 264)\n",
    "assert test_data_accuracy.shape == (6544, 264)\n",
    "## Obviously the train label should have a shape of 4363 x 1 (one label for each song in the training dataset)\n",
    "assert train_labels_accuracy.shape == (train_data_accuracy.shape[0], 1)"
   ]
  },
  {
   "cell_type": "markdown",
   "metadata": {},
   "source": [
    "### Accuracy\n",
    "This notebooks starts with the accuracy challenge.\n",
    "\n",
    "#### Table of contents\n",
    "1. Data visualization\n",
    "2. Data manipulation\n",
    "3. ML Algorithm"
   ]
  },
  {
   "cell_type": "markdown",
   "metadata": {},
   "source": [
    "### 1. Data visualiztion"
   ]
  },
  {
   "cell_type": "markdown",
   "metadata": {},
   "source": [
    "*The commented out code is valid code: feel free to utilize it. It was commented out because it is long to read and does not provide aggregate results. Besides, in this way the notebook runs faster (less computation to do)*"
   ]
  },
  {
   "cell_type": "code",
   "execution_count": null,
   "metadata": {},
   "outputs": [],
   "source": [
    "## Visualizes the training_data\n",
    "plt.plot(train_data_accuracy)\n",
    "plt.title('Train data distribution')\n",
    "plt.show()\n",
    "# mean = np.mean(train_data_accuracy, axis=0)\n",
    "# std = np.std(train_data_accuracy, axis=0)\n",
    "# for i in range(len(mean)):\n",
    "#     print(f'{i}: the mean of the row is {mean[i]}, the variance is {std[i]}')\n",
    "## Visualizes the test_data\n",
    "plt.plot(test_data_accuracy)\n",
    "plt.title('Test data distribution')\n",
    "plt.show()\n",
    "# mean = np.mean(test_data_accuracy, axis=0)\n",
    "# std = np.std(test_data_accuracy, axis=0)\n",
    "# for i in range(len(mean)):\n",
    "#     print(f'{i}: the mean of the row is {mean[i]}, the variance is {std[i]}')"
   ]
  },
  {
   "cell_type": "markdown",
   "metadata": {},
   "source": [
    "#### Observations\n",
    "As we can see the training data nor the test data are normalized. In addition to it, labels are not equally distribuited: indeed there are more label of class 1 (almost 50%), Pop_Rock, then any other classes as we can see in the cell below. The figure below represents the occurence (in %) of each label."
   ]
  },
  {
   "cell_type": "code",
   "execution_count": 7,
   "metadata": {},
   "outputs": [
    {
     "name": "stdout",
     "output_type": "stream",
     "text": [
      "Label 1 (Pop_Rock): 49.92%\n",
      "Label 2 (Electronic): 14.16%\n",
      "Label 3 (Rap): 7.47%\n",
      "Label 4 (Jazz): 5.8%\n",
      "Label 5 (Latin): 4.9%\n",
      "Label 6 (RnB): 5.96%\n",
      "Label 7 (International): 3.23%\n",
      "Label 8 (Country): 4.47%\n",
      "Label 9 (Reggae): 2.11%\n",
      "Label 10 (Blues): 1.97%\n"
     ]
    },
    {
     "data": {
      "image/png": "[encoded data removed]",
      "text/plain": [
       "<Figure size 1008x504 with 2 Axes>"
      ]
     },
     "metadata": {},
     "output_type": "display_data"
    }
   ],
   "source": [
    "## Visualizes the labels\n",
    "## Store the music genres that will be printed out\n",
    "class_names = ['Pop_Rock', 'Electronic', 'Rap', 'Jazz', 'Latin', 'RnB', 'International', 'Country', 'Reggae', 'Blues']\n",
    "data = np.empty((11, 2))\n",
    "for i in range(1, 11, 1):\n",
    "    print(f'Label {i} ({class_names[i - 1]}): {round((len(np.where(train_labels_accuracy == i)[0]) / len(train_labels_accuracy)) * 100, 2)}%')\n",
    "    ## Since arrays are 0-indexed but the first label is 1, initialize the first position of the array using the first label (1)\n",
    "    ## This is just to create a nice plot, does not have any effect on the algorithm.\n",
    "    data[0, 0] = 0\n",
    "    data[0, 1] = round((len(np.where(train_labels_accuracy == 1)[0]) / len(train_labels_accuracy)) * 100, 2)\n",
    "    data[i, 0] = i\n",
    "    data[i, 1] = round((len(np.where(train_labels_accuracy == i)[0]) / len(train_labels_accuracy)) * 100, 2)\n",
    "\n",
    "fig, axs = plt.subplots(nrows=1, ncols=2, sharex=True, figsize=(14, 7))\n",
    "ax = axs[0]\n",
    "ax.hist(train_labels_accuracy)\n",
    "ax.set_title('Labels distribution')\n",
    "ax.set_xlabel('Label number')\n",
    "ax.set_ylabel('Number of occurences')\n",
    "ax.grid(True)\n",
    "\n",
    "ax = axs[1]\n",
    "ax.plot(data[:, 1])\n",
    "ax.set_title('Labels distribution (in %)')\n",
    "ax.set_xlabel('Label number')\n",
    "ax.set_ylabel('Percentage of occurence')\n",
    "ax.grid(True)\n",
    "\n",
    "\n",
    "fig.suptitle('Label distribution analysis: labels\\' range is from 1 to 10')\n",
    "plt.show()"
   ]
  },
  {
   "cell_type": "markdown",
   "metadata": {},
   "source": [
    "### 2. Data manipulation\n",
    "#### Cleanup\n",
    "From the plots of the previous section it can be noticed that some columns (205 to 220) contains features whose values are not aligned with the others: so we can eliminate them.  \n",
    "*Now each song has 248 features instead of 264.*\n",
    "\n",
    "The difference in the data is easier to see by comparing the previous plot (re-plotted below) and the new plot.\n",
    "\n",
    "\n",
    "**Note**: after various tests, it was discovered that eliminating the misaligned features had no practical effect on the whole algorithm: indeed, even though the overall accuracy of the model slightly decreased (from 75.83% to 75.43%) the accuracy with the new data (the test data) did not change. For this reason, we will use the complete dataset instead of the modified one.  \n",
    "This is probably related to the fact the data are centered with mean 0 and standard variation 1, so the misaligned features do not have an high impact on the overall accuracy.\n",
    "\n",
    "*Feel free to transform the following cell to a code cell to try the algorithms using the resized data set.*"
   ]
  },
  {
   "cell_type": "raw",
   "metadata": {},
   "source": [
    "# Plot the original data\n",
    "fig, axs = plt.subplots(nrows=1, ncols=2, sharex=True, figsize=(14, 7))\n",
    "ax = axs[0]\n",
    "ax.plot(train_data_accuracy)\n",
    "ax.set_title('Train data plot before')\n",
    "ax.grid(True)\n",
    "\n",
    "ax = axs[1]\n",
    "ax.plot(test_data_accuracy)\n",
    "ax.set_title('Test data plot before')\n",
    "ax.grid(True)\n",
    "# Eliminates the data\n",
    "print(f'Train data shape before resize is: {train_data_accuracy.shape}, Test data shape is: {test_data_accuracy.shape}')\n",
    "train_data_accuracy = np.delete(train_data_accuracy, [204,205,206,207,208,209,210,211,212,213,214,215,216,217,218,219,220], 1)\n",
    "test_data_accuracy = np.delete(test_data_accuracy, [204,205,206,207,208,209,210,211,212,213,214,215,216,217,218,219,220], 1)\n",
    "# Let's check that the elimination process succeded\n",
    "print(f'Train data shape after resize is: {train_data_accuracy.shape}, Test data shape is: {test_data_accuracy.shape}')\n",
    "# Plot the original data\n",
    "fig, axs = plt.subplots(nrows=1, ncols=2, sharex=True, figsize=(14, 7))\n",
    "ax = axs[0]\n",
    "ax.plot(train_data_accuracy)\n",
    "ax.set_title('Train data plot after')\n",
    "ax.grid(True)\n",
    "\n",
    "ax = axs[1]\n",
    "ax.plot(test_data_accuracy)\n",
    "ax.set_title('Test data plot after')\n",
    "ax.grid(True)"
   ]
  },
  {
   "cell_type": "markdown",
   "metadata": {},
   "source": [
    "**Note**: since this notebook utlizes scikit-learn tools, as suggested by their documentation it is important to scale the data.\n",
    "Scaled data have two particular characteristics:\n",
    "- Their mean is (almost) equal to 0\n",
    "- Their variance is (almost) equal to 1  \n",
    "\n",
    "Thus the data are centered around 0. The differences between the raw training data and the centered training data are visible in the plots below.  \n",
    "By using the StandardScaler() function it is possible to apply the same transformation to both the datasets: training and testing."
   ]
  },
  {
   "cell_type": "code",
   "execution_count": 2,
   "metadata": {},
   "outputs": [
    {
     "name": "stdout",
     "output_type": "stream",
     "text": [
      "The mean of the train data is: -3.9591392478315614e-17, the variance is: 0.9923953268977462\n",
      "The mean of the test data is: -0.014540757008522483, the variance is: 1.0115121161980416\n"
     ]
    },
    {
     "data": {
      "image/png": "[encoded data removed]",
      "text/plain": [
       "<Figure size 1008x504 with 2 Axes>"
      ]
     },
     "metadata": {},
     "output_type": "display_data"
    }
   ],
   "source": [
    "## Scales the data before feeding them into ML algorithms\n",
    "scaler = preprocessing.StandardScaler().fit(train_data_accuracy)\n",
    "train_data_scaled = scaler.transform(train_data_accuracy)   \n",
    "test_data_scaled = scaler.transform(test_data_accuracy)                \n",
    "print(f'The mean of the train data is: {np.mean(train_data_scaled)}, the variance is: {np.std(train_data_scaled)}')\n",
    "print(f'The mean of the test data is: {np.mean(test_data_scaled)}, the variance is: {np.std(test_data_scaled)}')\n",
    "fig, axs = plt.subplots(nrows=1, ncols=2, sharex=True, figsize=(14, 7))\n",
    "ax = axs[0]\n",
    "ax.plot(train_data_accuracy)\n",
    "ax.set_title('Train data plot before scaling')\n",
    "ax.grid(True)\n",
    "\n",
    "ax = axs[1]\n",
    "ax.plot(train_data_scaled)\n",
    "ax.set_title('Train data plot after scaling')\n",
    "ax.grid(True)"
   ]
  },
  {
   "cell_type": "markdown",
   "metadata": {},
   "source": [
    "### 3. ML Algorithm\n",
    "After data cleanup, it is time to implement the ML algorithms to predict the labels. For this purpose, this notebook uses *SVM - Support Vector Machine* and *RF - Random Forest*.\n",
    "The notebook starts with the SVM, then the RF is implemented.  \n",
    "It is important to notice that both algorithms use the same data."
   ]
  },
  {
   "cell_type": "markdown",
   "metadata": {},
   "source": [
    "#### Parameters choice and hyperparameters tuning\n",
    "The following code is used to determine which are the best values for the parameters 'C', 'kernel' and 'gamma'.  \n",
    "These parameters affect the accuracy of the algorithm: the best combination is chosen in order to maximize the accuracy upon the provided data.\n",
    "\n",
    "**Important**: running the following cell require A LOT of time. The best set of parameters is reported in the next cell, so it is not necessary to run this cell again."
   ]
  },
  {
   "cell_type": "markdown",
   "metadata": {},
   "source": [
    "The following cell contains the parameters tuning algorithm: do not execute it!"
   ]
  },
  {
   "cell_type": "code",
   "execution_count": null,
   "metadata": {
    "scrolled": false
   },
   "outputs": [],
   "source": [
    "## Calculate the time needed for the following cell\n",
    "start_time = time.time()\n",
    "## Determine the best parameters for the Support Vector Algorithm\n",
    "parameters = {'kernel':('linear', 'poly', 'rbf', 'sigmoid'), 'C':[1, 2, 3, 4, 5, 6, 7, 8, 9, 10], 'gamma':('scale', 'auto', 0.00001, 0.001, 0.0001)}\n",
    "svc = svm.SVC()\n",
    "clf = GridSearchCV(svc, parameters, cv=5, return_train_score=True, n_jobs = -1)\n",
    "clf.fit(train_data_scaled, np.ravel(train_labels_accuracy))\n",
    "end_time = time.time()\n",
    "print(f'Total time needed for hyperparameters tuning: {end_time - start_time}')"
   ]
  },
  {
   "cell_type": "markdown",
   "metadata": {},
   "source": [
    "#### Grid search results\n",
    "\n",
    "In the following cell only a part of the data is displayed. The file output.csv contains all the data."
   ]
  },
  {
   "cell_type": "code",
   "execution_count": null,
   "metadata": {},
   "outputs": [],
   "source": [
    "print('Grid search results:')\n",
    "df = pd.DataFrame(data=clf.cv_results_)\n",
    "display(df)\n",
    "df.to_csv('output.csv')\n",
    "print('The best estimator is:')\n",
    "print(clf.best_estimator_)"
   ]
  },
  {
   "cell_type": "markdown",
   "metadata": {},
   "source": [
    "#### Best estimator:\n",
    "The best estimator is:  \n",
    "`SVC(C=3, cache_size=200, class_weight=None, coef0=0.0, decision_function_shape='ovr', degree=3, gamma='scale', kernel='rbf',\n",
    " max_iter=-1, probability=False, random_state=None, shrinking=True, tol=0.001, verbose=True)`"
   ]
  },
  {
   "cell_type": "markdown",
   "metadata": {},
   "source": [
    "#### Best parameters\n",
    "The following cell contain the ML algorithm that uses the best set of parameters."
   ]
  },
  {
   "cell_type": "code",
   "execution_count": null,
   "metadata": {},
   "outputs": [],
   "source": [
    "## Once we have the best parameters for the estimator, we can start with the predictions\n",
    "clf = svm.SVC(C=3, cache_size=200, class_weight=None, coef0=0.0,\n",
    "  decision_function_shape='ovr', degree=3, gamma='scale', kernel='rbf',\n",
    "  max_iter=-1, probability=False, random_state=None, shrinking=True,\n",
    "  tol=0.001)\n",
    "clf.fit(train_data_scaled, np.ravel(train_labels_accuracy))"
   ]
  },
  {
   "cell_type": "markdown",
   "metadata": {},
   "source": [
    "Calculate the accuracy of the algorithm"
   ]
  },
  {
   "cell_type": "code",
   "execution_count": null,
   "metadata": {
    "scrolled": true
   },
   "outputs": [],
   "source": [
    "score = clf.score(train_data_scaled, train_labels_accuracy)\n",
    "print(f'Algorithm accuracy is {np.round(score * 100, 2)}%')"
   ]
  },
  {
   "cell_type": "markdown",
   "metadata": {},
   "source": [
    "The following cell displays the result of the ML algorithm: the blue line represent the training labels and the red lines the predicted one. They should have a similar pattern, although if they are (almost) perfectly aligned, the model is probably overfitting."
   ]
  },
  {
   "cell_type": "code",
   "execution_count": null,
   "metadata": {},
   "outputs": [],
   "source": [
    "predictions = clf.predict(test_data_scaled)\n",
    "data_p = np.empty((11, 2))\n",
    "for i in range(1, 11, 1):\n",
    "    print(f'Label {i} ({class_names[i - 1]}): {round((len(np.where(predictions == i)[0]) / len(predictions)) * 100, 2)}%')\n",
    "    # Since arrays are 0-indexed but the first label is 1, initialize the first position of the array using the first label (1)\n",
    "    # This is just to create a nice plot, does not have any effect on the algorithm.\n",
    "    data_p[0, 0] = 0\n",
    "    data_p[0, 1] = round((len(np.where(predictions == 1)[0]) / len(predictions)) * 100, 2)\n",
    "    data_p[i, 0] = i\n",
    "    data_p[i, 1] = round((len(np.where(predictions == i)[0]) / len(predictions)) * 100, 2)\n",
    "\n",
    "plt.plot(data_p[:, 1], c='red')\n",
    "plt.plot(data[:, 1], c='blue')\n",
    "plt.grid(True)\n",
    "plt.title('Comparison between train labels and predicted labels')\n",
    "plt.xlabel('Label number')\n",
    "plt.ylabel('Percentage of occurence')\n",
    "plt.show()"
   ]
  },
  {
   "cell_type": "markdown",
   "metadata": {},
   "source": [
    "The following cell is just a small utility function to save the predicted labels (contained in the pred array) to a csv file that follows the specification."
   ]
  },
  {
   "cell_type": "code",
   "execution_count": 9,
   "metadata": {},
   "outputs": [],
   "source": [
    "def save_prediction(pred, filename):\n",
    "    prediction = pd.DataFrame(pred, columns=['Sample_label'])\n",
    "    prediction.index += 1 \n",
    "    prediction.to_csv(f'{filename}.csv',index_label=\"Sample_id\",index=1)\n",
    "    \n",
    "save_prediction(predictions, 'SVM')"
   ]
  },
  {
   "cell_type": "markdown",
   "metadata": {},
   "source": [
    "### RTF - Random Tree Forest"
   ]
  },
  {
   "cell_type": "markdown",
   "metadata": {},
   "source": [
    "#### Tuning\n",
    "As seen before, the following cell will (try to) optimize the hyperparameters of the Random Forest Algorithm.  \n",
    "The best estimator found is in the next cell.  \n",
    "*The following cell takes about 93 minutes on jupyterhub to compute.*"
   ]
  },
  {
   "cell_type": "markdown",
   "metadata": {},
   "source": [
    "The following cell contains the parameters tuning algorithm: do not execute it!"
   ]
  },
  {
   "cell_type": "raw",
   "metadata": {},
   "source": [
    "## Calculate the time needed for the following cell\n",
    "start_time = time.time()\n",
    "n_estimators = [int(x) for x in np.linspace(start = 10, stop = 1000, num = 8)]\n",
    "max_features = ['auto', 'sqrt', None]\n",
    "max_depth = [int(x) for x in np.linspace(10, 110, num = 9)]\n",
    "max_depth.append(None)\n",
    "min_samples_split = [2, 5, 10]\n",
    "min_samples_leaf = [1, 2, 4]\n",
    "bootstrap = [True]\n",
    "random_grid = {'n_estimators': n_estimators,\n",
    "               'max_features': max_features,\n",
    "               'max_depth': max_depth,\n",
    "               'min_samples_split': min_samples_split,\n",
    "               'min_samples_leaf': min_samples_leaf,\n",
    "               'bootstrap': bootstrap}\n",
    "display(random_grid)\n",
    "rtf = RandomForestClassifier()\n",
    "rf_random = RandomizedSearchCV(estimator = rtf, param_distributions = random_grid, n_iter = 10, cv = 5, verbose=2, random_state=169, n_jobs = -1, return_train_score=True)\n",
    "rf_random.fit(train_data_accuracy, np.ravel(train_labels_accuracy))\n",
    "end_time = time.time()\n",
    "print(f'Total time needed for hyperparameters tuning: {end_time - start_time}')"
   ]
  },
  {
   "cell_type": "code",
   "execution_count": null,
   "metadata": {},
   "outputs": [],
   "source": [
    "print('Grid search results:')\n",
    "df = pd.DataFrame(data=rf_random.cv_results_)\n",
    "display(df)\n",
    "df.to_csv('output.csv')\n",
    "print('The best estimator is:')\n",
    "print(rf_random.best_params_)"
   ]
  },
  {
   "cell_type": "markdown",
   "metadata": {},
   "source": [
    "The best estimator found is:  \n",
    "`{'n_estimators': 717, 'min_samples_split': 5, 'min_samples_leaf': 4, 'max_features': None, 'max_depth': 97, 'bootstrap': True}`"
   ]
  },
  {
   "cell_type": "code",
   "execution_count": 3,
   "metadata": {},
   "outputs": [
    {
     "data": {
      "text/plain": [
       "RandomForestClassifier(bootstrap=True, class_weight=None, criterion='gini',\n",
       "            max_depth=97, max_features=None, max_leaf_nodes=None,\n",
       "            min_impurity_decrease=0.0, min_impurity_split=None,\n",
       "            min_samples_leaf=4, min_samples_split=5,\n",
       "            min_weight_fraction_leaf=0.0, n_estimators=717, n_jobs=None,\n",
       "            oob_score=False, random_state=None, verbose=0,\n",
       "            warm_start=False)"
      ]
     },
     "execution_count": 3,
     "metadata": {},
     "output_type": "execute_result"
    }
   ],
   "source": [
    "## Plug in the best parameters found\n",
    "rtf = RandomForestClassifier(criterion='gini', n_estimators=717, min_samples_split=5, min_samples_leaf=4, max_features=None, max_depth=97, bootstrap=True)\n",
    "rtf.fit(train_data_accuracy, np.ravel(train_labels_accuracy))"
   ]
  },
  {
   "cell_type": "code",
   "execution_count": 4,
   "metadata": {},
   "outputs": [
    {
     "name": "stdout",
     "output_type": "stream",
     "text": [
      "Algorithm accuracy is 94.55%\n"
     ]
    }
   ],
   "source": [
    "score = rtf.score(train_data_accuracy, train_labels_accuracy)\n",
    "print(f'Algorithm accuracy is {np.round(score * 100, 2)}%')"
   ]
  },
  {
   "cell_type": "markdown",
   "metadata": {},
   "source": [
    "The following cell displays the result of the ML algorithm: the blue line represent the training labels and the red lines the predicted one.  \n",
    "They should have a similar pattern, although if they are (almost) perfectly aligned, the model is probably overfitting."
   ]
  },
  {
   "cell_type": "code",
   "execution_count": 10,
   "metadata": {},
   "outputs": [
    {
     "name": "stdout",
     "output_type": "stream",
     "text": [
      "Label 1 (Pop_Rock): 75.47%\n",
      "Label 2 (Electronic): 11.43%\n",
      "Label 3 (Rap): 7.79%\n",
      "Label 4 (Jazz): 2.14%\n",
      "Label 5 (Latin): 0.81%\n",
      "Label 6 (RnB): 1.8%\n",
      "Label 7 (International): 0.0%\n",
      "Label 8 (Country): 0.15%\n",
      "Label 9 (Reggae): 0.38%\n",
      "Label 10 (Blues): 0.02%\n"
     ]
    },
    {
     "data": {
      "image/png": "[encoded data removed]",
      "text/plain": [
       "<Figure size 432x288 with 1 Axes>"
      ]
     },
     "metadata": {},
     "output_type": "display_data"
    }
   ],
   "source": [
    "predictions = rtf.predict(test_data_accuracy)\n",
    "data_p = np.empty((11, 2))\n",
    "for i in range(1, 11, 1):\n",
    "    print(f'Label {i} ({class_names[i - 1]}): {round((len(np.where(predictions == i)[0]) / len(predictions)) * 100, 2)}%')\n",
    "    data_p[0, 0] = 0\n",
    "    data_p[0, 1] = round((len(np.where(predictions == 1)[0]) / len(predictions)) * 100, 2)\n",
    "    data_p[i, 0] = i\n",
    "    data_p[i, 1] = round((len(np.where(predictions == i)[0]) / len(predictions)) * 100, 2)\n",
    "\n",
    "plt.plot(data_p[:, 1], c='red')\n",
    "plt.plot(data[:, 1], c='blue')\n",
    "plt.grid(True)\n",
    "plt.title('Comparison between train labels and predicted labels')\n",
    "plt.xlabel('Label number')\n",
    "plt.ylabel('Percentage of occurence')\n",
    "plt.show()\n",
    "\n",
    "## Export the calculated predictions\n",
    "save_prediction(predictions, 'Tree')"
   ]
  },
  {
   "cell_type": "markdown",
   "metadata": {},
   "source": [
    "### Bonus content: Neural Network\n",
    "In this last section about accuracy, the notebook contains the implementation of a Neural Network.  \n",
    "The Neural Network uses the MLPClassifier function from scikit-learn tools: it is composed of two hidden layers of size ten each, plus one input and one output layer.  \n",
    "The early stopping technique is used to prevent overfitting.\n",
    "The algorithm tries to optimize the loss function in every epoch (maximum 1000) and stops when the loss does not improve more than 0.000001 for more than ten consecutive epochs."
   ]
  },
  {
   "cell_type": "code",
   "execution_count": null,
   "metadata": {},
   "outputs": [],
   "source": [
    "from sklearn.neural_network import MLPClassifier"
   ]
  },
  {
   "cell_type": "markdown",
   "metadata": {},
   "source": [
    "#### Parameters tuning\n",
    "The following cells evaluates which are the best parameters for the NN.\n",
    "\n",
    "The best combination can be found below.\n",
    "\n",
    "*Note*: running this cell takes a lot of time (more than 2 hours on my machine), so it is not advisable to run it. The correct parameters are already plugged in."
   ]
  },
  {
   "cell_type": "markdown",
   "metadata": {},
   "source": [
    "The following cell contains the parameters tuning algorithm: do not execute it!"
   ]
  },
  {
   "cell_type": "raw",
   "metadata": {},
   "source": [
    "## Instantiate the NN\n",
    "mlp = MLPClassifier(max_iter=1000)\n",
    "parameters = {\n",
    "    'hidden_layer_sizes': [(50,50,50), (50,100,50), (100,)],\n",
    "    'activation': ['tanh', 'relu'],\n",
    "    'solver': ['sgd', 'adam'],\n",
    "    'alpha': [0.0001, 0.05],\n",
    "    'learning_rate': ['constant', 'adaptive'],\n",
    "    'shuffle': [True, False]\n",
    "    'early_stopping': [True, False]\n",
    "}\n",
    "clf = GridSearchCV(mlp, parameter_space, n_jobs=-1, cv=3)\n",
    "clf.fit(train_data_scaled, np.ravel(train_labels_accuracy))"
   ]
  },
  {
   "cell_type": "code",
   "execution_count": null,
   "metadata": {},
   "outputs": [],
   "source": [
    "print('Best parameters found:\\n', clf.best_params_)"
   ]
  },
  {
   "cell_type": "markdown",
   "metadata": {},
   "source": [
    "Best parameters found:  \n",
    "`{\n",
    "    'activation': 'relu',\n",
    "    'alpha': 0.0001,\n",
    "    'early_stopping': True,\n",
    "    'learning_rate': 'adaptive',\n",
    "    'shuffle': False,\n",
    "    'solver': 'adam'\n",
    "}`"
   ]
  },
  {
   "cell_type": "code",
   "execution_count": null,
   "metadata": {},
   "outputs": [],
   "source": [
    "mlp = MLPClassifier(activation='relu',\n",
    "                    alpha=0.0001,\n",
    "                    hidden_layer_sizes=(264, 264, 110),\n",
    "                    learning_rate='constant',\n",
    "                    max_iter=1000,\n",
    "                    shuffle=False,\n",
    "                    solver='adam',\n",
    "                    tol=0.000001,\n",
    "                    verbose=True,\n",
    "                    early_stopping=True\n",
    "                    )\n",
    "mlp.fit(train_data_scaled, np.ravel(train_labels_accuracy))"
   ]
  },
  {
   "cell_type": "code",
   "execution_count": null,
   "metadata": {},
   "outputs": [],
   "source": [
    "score = mlp.score(train_data_scaled, train_labels_accuracy)\n",
    "print(f'Algorithm accuracy is {np.round(score * 100, 2)}%')"
   ]
  },
  {
   "cell_type": "markdown",
   "metadata": {},
   "source": [
    "The following cell displays the result of the ML algorithm: the blue line represent the training labels and the red lines the predicted one.  \n",
    "They should have a similar pattern, although if they are (almost) perfectly aligned, the model is probably overfitting."
   ]
  },
  {
   "cell_type": "code",
   "execution_count": null,
   "metadata": {},
   "outputs": [],
   "source": [
    "predictions = mlp.predict(test_data_scaled)\n",
    "data_p = np.empty((11, 2))\n",
    "for i in range(1, 11, 1):\n",
    "    print(f'Label {i} ({class_names[i - 1]}): {round((len(np.where(predictions == i)[0]) / len(predictions)) * 100, 2)}%')\n",
    "    data_p[0, 0] = 0\n",
    "    data_p[0, 1] = round((len(np.where(predictions == 1)[0]) / len(predictions)) * 100, 2)\n",
    "    data_p[i, 0] = i\n",
    "    data_p[i, 1] = round((len(np.where(predictions == i)[0]) / len(predictions)) * 100, 2)\n",
    "\n",
    "plt.plot(data_p[:, 1], c='red')\n",
    "plt.plot(data[:, 1], c='blue')\n",
    "plt.grid(True)\n",
    "plt.title('Comparison between train labels and predicted labels')\n",
    "plt.xlabel('Label number')\n",
    "plt.ylabel('Percentage of occurence')\n",
    "plt.show()\n",
    "\n",
    "save_prediction(predictions, 'NN')"
   ]
  },
  {
   "cell_type": "markdown",
   "metadata": {},
   "source": [
    "## Log-loss\n",
    "After the accuracy challenge, this section is focused on the log-loss challenge.  \n",
    "Data visualization and manipulation sections are the same as above, so will not be commented.  \n",
    "\n",
    "For the log-loss challenge only the SVM algorithm is presented, since the Neural Network did not perform well during tests: its loss on kaggle was 0.68353, thus around 6 times worse than the SVM. However, as in the other challenge, the two version of SVM are compared: with and without hyperparameters tuning.\n",
    "\n",
    "### Contents\n",
    "1. Data visualization: how are the raw data provided?\n",
    "2. Data manipulation\n",
    "3. ML Algorithm"
   ]
  },
  {
   "cell_type": "code",
   "execution_count": 11,
   "metadata": {},
   "outputs": [],
   "source": [
    "# Libraries are already imported\n",
    "\n",
    "# Loads the files\n",
    "test_data_logloss = pd.read_csv('./log-loss/test_data.csv', header=None)\n",
    "train_data_logloss = pd.read_csv('./log-loss/train_data.csv', header=None)\n",
    "train_labels_logloss = pd.read_csv('./log-loss/train_labels.csv', header=None)\n",
    "\n",
    "# Parse loaded content\n",
    "test_data_logloss = test_data_logloss.values\n",
    "train_data_logloss = train_data_logloss.values\n",
    "train_labels_logloss = train_labels_logloss.values"
   ]
  },
  {
   "cell_type": "markdown",
   "metadata": {},
   "source": [
    "### 1. Data visualization"
   ]
  },
  {
   "cell_type": "code",
   "execution_count": null,
   "metadata": {},
   "outputs": [],
   "source": [
    "## Visualizes the training_data\n",
    "plt.plot(train_data_logloss)\n",
    "plt.title('Train data distribution')\n",
    "plt.show()\n",
    "# mean = np.mean(train_data_logloss, axis=0)\n",
    "# std = np.std(train_data_logloss, axis=0)\n",
    "# for i in range(len(mean)):\n",
    "#     print(f'{i}: the mean of the row is {mean[i]}, the variance is {std[i]}')\n",
    "## Visualizes the test_data\n",
    "plt.plot(test_data_logloss)\n",
    "plt.title('Test data distribution')\n",
    "plt.show()\n",
    "# mean = np.mean(test_data_logloss, axis=0)\n",
    "# std = np.std(test_data_logloss, axis=0)\n",
    "# for i in range(len(mean)):\n",
    "#     print(f'{i}: the mean of the row is {mean[i]}, the variance is {std[i]}')"
   ]
  },
  {
   "cell_type": "markdown",
   "metadata": {},
   "source": [
    "#### Observations\n",
    "As we can see the training data nor the test data are normalized. In addition to it, labels are not equally distribuited: indeed there are more label of class 1 (almost 50%), Pop_Rock, then any other classes as we can see in the cell below. The figure below represents the occurence (in %) of each label."
   ]
  },
  {
   "cell_type": "code",
   "execution_count": 12,
   "metadata": {},
   "outputs": [
    {
     "name": "stdout",
     "output_type": "stream",
     "text": [
      "Label 1 (Pop_Rock): 49.92%\n",
      "Label 2 (Electronic): 14.16%\n",
      "Label 3 (Rap): 7.47%\n",
      "Label 4 (Jazz): 5.8%\n",
      "Label 5 (Latin): 4.9%\n",
      "Label 6 (RnB): 5.96%\n",
      "Label 7 (International): 3.23%\n",
      "Label 8 (Country): 4.47%\n",
      "Label 9 (Reggae): 2.11%\n",
      "Label 10 (Blues): 1.97%\n"
     ]
    },
    {
     "data": {
      "image/png": "[encoded data removed]",
      "text/plain": [
       "<Figure size 1008x504 with 2 Axes>"
      ]
     },
     "metadata": {},
     "output_type": "display_data"
    }
   ],
   "source": [
    "# Visualizes the labels\n",
    "class_names = ['Pop_Rock', 'Electronic', 'Rap', 'Jazz', 'Latin', 'RnB', 'International', 'Country', 'Reggae', 'Blues']\n",
    "# Since labels start by 1, in the first position of the data array, I inserted again the value of the first label, to obtain a decent plot\n",
    "data = np.empty((11, 2))\n",
    "for i in range(1, 11, 1):\n",
    "    print(f'Label {i} ({class_names[i - 1]}): {round((len(np.where(train_labels_logloss == i)[0]) / len(train_labels_logloss)) * 100, 2)}%')\n",
    "    data[0, 0] = 0\n",
    "    data[0, 1] = round((len(np.where(train_labels_logloss == 1)[0]) / len(train_labels_logloss)) * 100, 2)\n",
    "    data[i, 0] = i\n",
    "    data[i, 1] = round((len(np.where(train_labels_logloss == i)[0]) / len(train_labels_logloss)) * 100, 2)\n",
    "\n",
    "fig, axs = plt.subplots(nrows=1, ncols=2, sharex=True, figsize=(14, 7))\n",
    "ax = axs[0]\n",
    "ax.hist(train_labels_logloss)\n",
    "ax.set_title('Labels distribution')\n",
    "ax.grid(True)\n",
    "\n",
    "ax = axs[1]\n",
    "ax.plot(data[:, 1])\n",
    "ax.set_title('Labels distribution in %')\n",
    "ax.grid(True)\n",
    "\n",
    "fig.suptitle('Label distribution analysis: labels\\' range is from 1 to 10')\n",
    "plt.show()"
   ]
  },
  {
   "cell_type": "markdown",
   "metadata": {},
   "source": [
    "### 2. Data manipulation"
   ]
  },
  {
   "cell_type": "code",
   "execution_count": 13,
   "metadata": {
    "scrolled": true
   },
   "outputs": [
    {
     "name": "stdout",
     "output_type": "stream",
     "text": [
      "The mean of the train data is: -3.9591392478315614e-17, the variance is 0.9923953268977462\n",
      "The mean of the test data is: -0.014540757008522483, the variance is 1.0115121161980416\n"
     ]
    }
   ],
   "source": [
    "# Scales the data before feeding them into ML algorithms\n",
    "scaler = preprocessing.StandardScaler().fit(train_data_logloss)\n",
    "train_data_scaled = scaler.transform(train_data_logloss)   \n",
    "test_data_scaled = scaler.transform(test_data_logloss)                \n",
    "print(f'The mean of the train data is: {np.mean(train_data_scaled)}, the variance is {np.std(train_data_scaled)}')\n",
    "print(f'The mean of the test data is: {np.mean(test_data_scaled)}, the variance is {np.std(test_data_scaled)}')"
   ]
  },
  {
   "cell_type": "markdown",
   "metadata": {},
   "source": [
    "### 3. ML Algorithm\n",
    "After data cleanup, the algorithm used for the predictions is presented: this notebook uses the SVM - Support Vector Machine - to predict the labels."
   ]
  },
  {
   "cell_type": "markdown",
   "metadata": {},
   "source": [
    "The following cell contains the parameters tuning algorithm: do not execute it!"
   ]
  },
  {
   "cell_type": "code",
   "execution_count": null,
   "metadata": {},
   "outputs": [],
   "source": [
    "## Calculate the time needed for the following cell\n",
    "start_time = time.time()\n",
    "## Determine the best parameters for the Support Vector Algorithm\n",
    "parameters = {'kernel':('linear', 'poly', 'rbf', 'sigmoid'), 'C':[1, 2, 3, 4, 5, 6, 7, 8, 9, 10], 'gamma':('scale', 'auto')}\n",
    "svc = svm.SVC(probability=True)\n",
    "clf = GridSearchCV(svc, parameters, cv=5, return_train_score=True, n_jobs = -1)\n",
    "clf.fit(train_data_scaled, np.ravel(train_labels_accuracy))\n",
    "end_time = time.time()\n",
    "print(f'Total time needed for hyperparameters tuning: {end_time - start_time}')"
   ]
  },
  {
   "cell_type": "code",
   "execution_count": null,
   "metadata": {
    "scrolled": true
   },
   "outputs": [],
   "source": [
    "clf = svm.SVC(C=3, gamma='scale', verbose=True, probability=True)\n",
    "clf.fit(train_data_scaled, np.ravel(train_labels_logloss))"
   ]
  },
  {
   "cell_type": "code",
   "execution_count": null,
   "metadata": {
    "scrolled": true
   },
   "outputs": [],
   "source": [
    "score = clf.score(train_data_scaled, train_labels_logloss)\n",
    "print(f'Algorithm accuracy is {np.round(score * 100, 2)}%')"
   ]
  },
  {
   "cell_type": "code",
   "execution_count": null,
   "metadata": {
    "scrolled": true
   },
   "outputs": [],
   "source": [
    "predictions = clf.predict_proba(test_data_scaled)\n",
    "assert predictions.shape == (6544, 10)\n",
    "\n",
    "data_l = np.empty((1, 10))\n",
    "for i in range(predictions.shape[1]):\n",
    "    data_l[0, i] = np.mean(predictions[:, i]) * 100\n",
    "    print(f'Average probability for label {i + 1} ({class_names[i]}): {np.round(data_l[0, i], 2)}%')\n",
    "\n",
    "plt.plot(data_l[0, :], c='red')\n",
    "plt.plot(data[:, 1], c='blue')\n",
    "plt.grid(True)\n",
    "plt.title('Comparison between train labels and predicted labels')\n",
    "plt.xlabel('Label number')\n",
    "plt.ylabel('Percentage of occurence')\n",
    "plt.show()"
   ]
  },
  {
   "cell_type": "code",
   "execution_count": null,
   "metadata": {},
   "outputs": [],
   "source": [
    "def save_prediction_loss(loss):\n",
    "    prediction = pd.DataFrame(loss,columns=['Class_1','Class_2','Class_3','Class_4','Class_5',\n",
    "                                            'Class_6','Class_7','Class_8','Class_9','Class_10'])\n",
    "    prediction.index += 1 \n",
    "    prediction.to_csv('loss_kaggle.csv',index_label=\"Sample_id\",index=1)\n",
    "    \n",
    "save_prediction_loss(predictions)"
   ]
  },
  {
   "cell_type": "markdown",
   "metadata": {},
   "source": [
    "## 4. Results"
   ]
  },
  {
   "cell_type": "markdown",
   "metadata": {},
   "source": [
    "These are the various results obtained on kaggle:  \n",
    "### Accuracy challenge\n",
    "- SVM with hyperparameter tuning: 0.65715\n",
    "- SVM without hyperparameter tuning: 0.64034\n",
    "- RF with hyperparameter tuning: 0.61691\n",
    "- RF without hyperparameter tuning: 0.64034\n",
    "- NN with hyperparameter tuning: 0.62608\n",
    "- NN without hyperparameter tuning: 0.63728\n",
    "\n",
    "### Logloss challenge\n",
    "- SVM with hyperparameter tuning: \n",
    "- SVM without hyperparameter tuning: 0.16922 "
   ]
  },
  {
   "cell_type": "markdown",
   "metadata": {},
   "source": [
    "## 5. Discussion/Conclusions"
   ]
  },
  {
   "cell_type": "markdown",
   "metadata": {},
   "source": [
    "This paper analyzed different approaches to the same problem: music genre classification. \n",
    "The most accurate algorithm was the Support Vector Machine with hyperparameters tuning: it was possible to achieve an'accuracy of 65.71% on the test data.  \n",
    "Random Forest Tree algorithm instead performed quite well without any kind of tuning (64.03%), but became less accurate once its parameters were optimized.  \n",
    "For parameters optimization two different approaches were used:\n",
    "1. GridSearchCV\n",
    "2. RandomizedSearchCV  \n",
    "\n",
    "These two strategies apply the same algorithm in two different methods:  \n",
    "GridSearchCV evaluates the accuracy and other statistics of a ML methods trying all the possible combination of parameters. For this reason, it is more computational expensive and takes a longer time.  \n",
    "\n",
    "RandomizedSearchCV on the other hand, operates by choosing random combinations of parameters and picking the best one. This method is faster since it needs less iterations to be performed, but sometimes is less accurate.  \n",
    "\n",
    "GridSearchCV was used to tune the SVM estimator, since it has less parameters and it was possible to compute the best estimator in a relatively small amount of time (less than 2 hours).  \n",
    "\n",
    "RandomizedSearchCV was instead used to tune the parameters of RT because it contains more paramenters and thus more possible combination. Indeed, applying the GridSearchCV resulted in having to evaluate more than 25 thousand score. While using the random version it was possible to evaluate only 50 fits.\n",
    "\n",
    "Even the Neural Network did not benefit from the hyperparameters tuning.  \n",
    "\n",
    "The ineffettivity of the tuning for Random Tree Forest and for the Neural Network might be caused by the fact that, while for SVM is possible to test more parameters that have some fixed values (for example gamma is usually a value less than 1 or is 'auto' or 'scale'), the tree and the Neural Network both heavily rely on the number of the estimators (for the tree) or layers (and perceptrons per layer) (for the Neural Network): so it is more difficult to find the best combination."
   ]
  },
  {
   "cell_type": "markdown",
   "metadata": {},
   "source": [
    "## 6. References"
   ]
  },
  {
   "cell_type": "markdown",
   "metadata": {},
   "source": [
    "Below are reported all the references used throughout the notebook.   \n",
    "However, instead of using the standard IEEE reference style, the references were put inline in the text for an easier and faster access.  \n",
    "\n",
    "Wikipedia, https://en.wikipedia.org/wiki/Support_vector_machine  \n",
    "Wikipedia, https://en.wikipedia.org/wiki/Random_forest\n"
   ]
  },
  {
   "cell_type": "code",
   "execution_count": null,
   "metadata": {},
   "outputs": [],
   "source": []
  }
 ],
 "metadata": {
  "kernelspec": {
   "display_name": "Python 3",
   "language": "python",
   "name": "python3"
  },
  "language_info": {
   "codemirror_mode": {
    "name": "ipython",
    "version": 3
   },
   "file_extension": ".py",
   "mimetype": "text/x-python",
   "name": "python",
   "nbconvert_exporter": "python",
   "pygments_lexer": "ipython3",
   "version": "3.6.5"
  }
 },
 "nbformat": 4,
 "nbformat_minor": 2
}
